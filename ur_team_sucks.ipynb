{
  "nbformat": 4,
  "nbformat_minor": 0,
  "metadata": {
    "colab": {
      "name": "ur_team_sucks.ipynb",
      "provenance": [],
      "collapsed_sections": [],
      "include_colab_link": true
    },
    "kernelspec": {
      "display_name": "Python 3",
      "name": "python3"
    },
    "language_info": {
      "name": "python"
    }
  },
  "cells": [
    {
      "cell_type": "markdown",
      "metadata": {
        "id": "view-in-github",
        "colab_type": "text"
      },
      "source": [
        "<a href=\"https://colab.research.google.com/github/LadyMustapha/Portfolio/blob/main/ur_team_sucks.ipynb\" target=\"_parent\"><img src=\"https://colab.research.google.com/assets/colab-badge.svg\" alt=\"Open In Colab\"/></a>"
      ]
    },
    {
      "cell_type": "code",
      "metadata": {
        "id": "1ZZLz65a0QSp",
        "colab": {
          "base_uri": "https://localhost:8080/"
        },
        "outputId": "338d6350-07dd-472f-c067-42ca86d40755"
      },
      "source": [
        "print('Welcome to your NFL Team Sucks Quiz! Let us do a Quick Knowledge Assessment')\n",
        "answer=input('Are you ready to play? (yes/no) :')\n",
        "\n",
        "if answer.lower()=='yes':\n",
        "    answer=input('Question 1: What is your favorite football team?')\n",
        "    if answer.lower()=='giants':\n",
        "        print('correct')\n",
        "    else:\n",
        "        print('Wrong Answer :(')\n",
        " \n",
        "    answer=input('Question 2: Do you know how badly they suck?')\n",
        "    if answer.lower()=='yes':\n",
        "        print('correct')\n",
        "    elif answer.lower()==\"no\" :\n",
        "        print('Why don\\'t you know that? Try again silly:(') \n",
        "        answer=input('Do you know how badly they suck?')\n",
        "        while answer.lower()== 'no':\n",
        "          answer=input ('keep trying')\n",
        "        print(\"Glad you finally admitted it!\")\n",
        "\n",
        " \n",
        "    answer=input('Question 3: Have you considered a new team?')\n",
        "    if answer.lower()=='yes':\n",
        "        print('correct')\n",
        "    else:\n",
        "        print('Why haven\\'t you considered a new team?:(')\n",
        "        while answer.lower()=='no':\n",
        "              answer=input ('keep trying')\n",
        "        print(\"Glad you picked a new time!\")\n",
        "\n",
        "    answer=input('Question 4: What would be the name of your new team?')\n",
        "    if answer.lower()=='cowboys':\n",
        "        print('Great choice!')\n",
        "    elif answer.lower() =='Giants':\n",
        "        print('Wrong answer, pick a new team! :(')\n",
        "        answer=input ('keep trying')\n",
        "    elif answer.lower() =='ravens':\n",
        "            print('Wrong answer, pick a new team! :(')\n",
        "            answer=input ('keep trying')\n",
        "    elif answer.lower() =='jets':\n",
        "            print('Wrong answer, pick a new team! :(')\n",
        "            answer=input ('keep trying')\n",
        "    elif answer.lower() =='patriots':\n",
        "            print('Wrong answer, pick a new team! :(')\n",
        "            answer=input ('keep trying')\n",
        "    elif answer.lower() =='buccaneers':\n",
        "            print('Wrong answer, pick a new team! :(')\n",
        "            answer=input ('keep trying')\n",
        "    elif answer.lower() =='dolphins':\n",
        "            print('Wrong answer, pick a new team! :(')\n",
        "            answer=input ('keep trying')\n",
        "    elif answer.lower() =='titans':\n",
        "            print('Wrong answer, pick a new team! :(')\n",
        "            answer=input ('keep trying')\n",
        "\n",
        "    \n",
        " \n",
        "\n",
        "print('Thank you for Playing this quiz game!')\n",
        "print('BYE!')"
      ],
      "execution_count": null,
      "outputs": [
        {
          "name": "stdout",
          "output_type": "stream",
          "text": [
            "Welcome to your NFL Team Sucks Quiz! Let us do a Quick Knowledge Assessment\n",
            "Are you ready to play? (yes/no) :yes\n"
          ]
        }
      ]
    },
    {
      "cell_type": "code",
      "source": [
        ""
      ],
      "metadata": {
        "id": "yQIc20vj12wj"
      },
      "execution_count": null,
      "outputs": []
    },
    {
      "cell_type": "code",
      "source": [
        ""
      ],
      "metadata": {
        "id": "JFoFJHa713fI"
      },
      "execution_count": null,
      "outputs": []
    },
    {
      "cell_type": "code",
      "source": [
        ""
      ],
      "metadata": {
        "id": "kf82fnOh13y2"
      },
      "execution_count": null,
      "outputs": []
    }
  ]
}